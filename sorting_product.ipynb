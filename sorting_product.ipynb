{
 "cells": [
  {
   "cell_type": "code",
   "execution_count": 1,
   "id": "bacd3678",
   "metadata": {},
   "outputs": [],
   "source": [
    "import numpy as np\n",
    "import pandas as pd\n",
    "import math\n",
    "import scipy.stats as st\n",
    "from sklearn.preprocessing import MinMaxScaler"
   ]
  },
  {
   "cell_type": "code",
   "execution_count": 2,
   "id": "2bf40869",
   "metadata": {},
   "outputs": [
    {
     "data": {
      "text/html": [
       "<div>\n",
       "<style scoped>\n",
       "    .dataframe tbody tr th:only-of-type {\n",
       "        vertical-align: middle;\n",
       "    }\n",
       "\n",
       "    .dataframe tbody tr th {\n",
       "        vertical-align: top;\n",
       "    }\n",
       "\n",
       "    .dataframe thead th {\n",
       "        text-align: right;\n",
       "    }\n",
       "</style>\n",
       "<table border=\"1\" class=\"dataframe\">\n",
       "  <thead>\n",
       "    <tr style=\"text-align: right;\">\n",
       "      <th></th>\n",
       "      <th>Rating</th>\n",
       "      <th>Timestamp</th>\n",
       "      <th>Enrolled</th>\n",
       "      <th>Progress</th>\n",
       "      <th>Questions Asked</th>\n",
       "      <th>Questions Answered</th>\n",
       "    </tr>\n",
       "  </thead>\n",
       "  <tbody>\n",
       "    <tr>\n",
       "      <th>0</th>\n",
       "      <td>5.0</td>\n",
       "      <td>2021-02-05 07:45:55</td>\n",
       "      <td>2021-01-25 15:12:08</td>\n",
       "      <td>5.0</td>\n",
       "      <td>0.0</td>\n",
       "      <td>0.0</td>\n",
       "    </tr>\n",
       "    <tr>\n",
       "      <th>1</th>\n",
       "      <td>5.0</td>\n",
       "      <td>2021-02-04 21:05:32</td>\n",
       "      <td>2021-02-04 20:43:40</td>\n",
       "      <td>1.0</td>\n",
       "      <td>0.0</td>\n",
       "      <td>0.0</td>\n",
       "    </tr>\n",
       "    <tr>\n",
       "      <th>2</th>\n",
       "      <td>4.5</td>\n",
       "      <td>2021-02-04 20:34:03</td>\n",
       "      <td>2019-07-04 23:23:27</td>\n",
       "      <td>1.0</td>\n",
       "      <td>0.0</td>\n",
       "      <td>0.0</td>\n",
       "    </tr>\n",
       "    <tr>\n",
       "      <th>3</th>\n",
       "      <td>5.0</td>\n",
       "      <td>2021-02-04 16:56:28</td>\n",
       "      <td>2021-02-04 14:41:29</td>\n",
       "      <td>10.0</td>\n",
       "      <td>0.0</td>\n",
       "      <td>0.0</td>\n",
       "    </tr>\n",
       "    <tr>\n",
       "      <th>4</th>\n",
       "      <td>4.0</td>\n",
       "      <td>2021-02-04 15:00:24</td>\n",
       "      <td>2020-10-13 03:10:07</td>\n",
       "      <td>10.0</td>\n",
       "      <td>0.0</td>\n",
       "      <td>0.0</td>\n",
       "    </tr>\n",
       "  </tbody>\n",
       "</table>\n",
       "</div>"
      ],
      "text/plain": [
       "   Rating            Timestamp             Enrolled  Progress  \\\n",
       "0     5.0  2021-02-05 07:45:55  2021-01-25 15:12:08       5.0   \n",
       "1     5.0  2021-02-04 21:05:32  2021-02-04 20:43:40       1.0   \n",
       "2     4.5  2021-02-04 20:34:03  2019-07-04 23:23:27       1.0   \n",
       "3     5.0  2021-02-04 16:56:28  2021-02-04 14:41:29      10.0   \n",
       "4     4.0  2021-02-04 15:00:24  2020-10-13 03:10:07      10.0   \n",
       "\n",
       "   Questions Asked  Questions Answered  \n",
       "0              0.0                 0.0  \n",
       "1              0.0                 0.0  \n",
       "2              0.0                 0.0  \n",
       "3              0.0                 0.0  \n",
       "4              0.0                 0.0  "
      ]
     },
     "execution_count": 2,
     "metadata": {},
     "output_type": "execute_result"
    }
   ],
   "source": [
    "df=pd.read_csv(\"course_reviews.csv\")\n",
    "df.head()"
   ]
  },
  {
   "cell_type": "code",
   "execution_count": 3,
   "id": "9c490986",
   "metadata": {},
   "outputs": [
    {
     "data": {
      "text/plain": [
       "5.0    3267\n",
       "4.5     475\n",
       "4.0     383\n",
       "3.5      96\n",
       "3.0      62\n",
       "1.0      15\n",
       "2.0      12\n",
       "2.5      11\n",
       "1.5       2\n",
       "Name: Rating, dtype: int64"
      ]
     },
     "execution_count": 3,
     "metadata": {},
     "output_type": "execute_result"
    }
   ],
   "source": [
    "df[\"Rating\"].value_counts()"
   ]
  },
  {
   "cell_type": "code",
   "execution_count": 4,
   "id": "e14c0c04",
   "metadata": {},
   "outputs": [
    {
     "data": {
      "text/html": [
       "<div>\n",
       "<style scoped>\n",
       "    .dataframe tbody tr th:only-of-type {\n",
       "        vertical-align: middle;\n",
       "    }\n",
       "\n",
       "    .dataframe tbody tr th {\n",
       "        vertical-align: top;\n",
       "    }\n",
       "\n",
       "    .dataframe thead th {\n",
       "        text-align: right;\n",
       "    }\n",
       "</style>\n",
       "<table border=\"1\" class=\"dataframe\">\n",
       "  <thead>\n",
       "    <tr style=\"text-align: right;\">\n",
       "      <th></th>\n",
       "      <th>Rating</th>\n",
       "    </tr>\n",
       "    <tr>\n",
       "      <th>Questions Asked</th>\n",
       "      <th></th>\n",
       "    </tr>\n",
       "  </thead>\n",
       "  <tbody>\n",
       "    <tr>\n",
       "      <th>0.0</th>\n",
       "      <td>4.765193</td>\n",
       "    </tr>\n",
       "    <tr>\n",
       "      <th>1.0</th>\n",
       "      <td>4.740942</td>\n",
       "    </tr>\n",
       "    <tr>\n",
       "      <th>2.0</th>\n",
       "      <td>4.806250</td>\n",
       "    </tr>\n",
       "    <tr>\n",
       "      <th>3.0</th>\n",
       "      <td>4.744186</td>\n",
       "    </tr>\n",
       "    <tr>\n",
       "      <th>4.0</th>\n",
       "      <td>4.833333</td>\n",
       "    </tr>\n",
       "    <tr>\n",
       "      <th>5.0</th>\n",
       "      <td>4.653846</td>\n",
       "    </tr>\n",
       "    <tr>\n",
       "      <th>6.0</th>\n",
       "      <td>5.000000</td>\n",
       "    </tr>\n",
       "    <tr>\n",
       "      <th>7.0</th>\n",
       "      <td>4.750000</td>\n",
       "    </tr>\n",
       "    <tr>\n",
       "      <th>8.0</th>\n",
       "      <td>4.900000</td>\n",
       "    </tr>\n",
       "    <tr>\n",
       "      <th>9.0</th>\n",
       "      <td>5.000000</td>\n",
       "    </tr>\n",
       "    <tr>\n",
       "      <th>10.0</th>\n",
       "      <td>5.000000</td>\n",
       "    </tr>\n",
       "    <tr>\n",
       "      <th>11.0</th>\n",
       "      <td>5.000000</td>\n",
       "    </tr>\n",
       "    <tr>\n",
       "      <th>12.0</th>\n",
       "      <td>5.000000</td>\n",
       "    </tr>\n",
       "    <tr>\n",
       "      <th>14.0</th>\n",
       "      <td>4.500000</td>\n",
       "    </tr>\n",
       "    <tr>\n",
       "      <th>15.0</th>\n",
       "      <td>3.000000</td>\n",
       "    </tr>\n",
       "    <tr>\n",
       "      <th>22.0</th>\n",
       "      <td>5.000000</td>\n",
       "    </tr>\n",
       "  </tbody>\n",
       "</table>\n",
       "</div>"
      ],
      "text/plain": [
       "                   Rating\n",
       "Questions Asked          \n",
       "0.0              4.765193\n",
       "1.0              4.740942\n",
       "2.0              4.806250\n",
       "3.0              4.744186\n",
       "4.0              4.833333\n",
       "5.0              4.653846\n",
       "6.0              5.000000\n",
       "7.0              4.750000\n",
       "8.0              4.900000\n",
       "9.0              5.000000\n",
       "10.0             5.000000\n",
       "11.0             5.000000\n",
       "12.0             5.000000\n",
       "14.0             4.500000\n",
       "15.0             3.000000\n",
       "22.0             5.000000"
      ]
     },
     "execution_count": 4,
     "metadata": {},
     "output_type": "execute_result"
    }
   ],
   "source": [
    "df.groupby([\"Questions Asked\"]).agg({\"Rating\":\"mean\"})"
   ]
  },
  {
   "cell_type": "code",
   "execution_count": 5,
   "id": "890d31a9",
   "metadata": {},
   "outputs": [
    {
     "data": {
      "text/html": [
       "<div>\n",
       "<style scoped>\n",
       "    .dataframe tbody tr th:only-of-type {\n",
       "        vertical-align: middle;\n",
       "    }\n",
       "\n",
       "    .dataframe tbody tr th {\n",
       "        vertical-align: top;\n",
       "    }\n",
       "\n",
       "    .dataframe thead th {\n",
       "        text-align: right;\n",
       "    }\n",
       "</style>\n",
       "<table border=\"1\" class=\"dataframe\">\n",
       "  <thead>\n",
       "    <tr style=\"text-align: right;\">\n",
       "      <th></th>\n",
       "      <th>Rating</th>\n",
       "    </tr>\n",
       "    <tr>\n",
       "      <th>Progress</th>\n",
       "      <th></th>\n",
       "    </tr>\n",
       "  </thead>\n",
       "  <tbody>\n",
       "    <tr>\n",
       "      <th>0.0</th>\n",
       "      <td>4.673913</td>\n",
       "    </tr>\n",
       "    <tr>\n",
       "      <th>1.0</th>\n",
       "      <td>4.642691</td>\n",
       "    </tr>\n",
       "    <tr>\n",
       "      <th>2.0</th>\n",
       "      <td>4.654762</td>\n",
       "    </tr>\n",
       "    <tr>\n",
       "      <th>3.0</th>\n",
       "      <td>4.663551</td>\n",
       "    </tr>\n",
       "    <tr>\n",
       "      <th>4.0</th>\n",
       "      <td>4.777328</td>\n",
       "    </tr>\n",
       "    <tr>\n",
       "      <th>...</th>\n",
       "      <td>...</td>\n",
       "    </tr>\n",
       "    <tr>\n",
       "      <th>94.0</th>\n",
       "      <td>5.000000</td>\n",
       "    </tr>\n",
       "    <tr>\n",
       "      <th>95.0</th>\n",
       "      <td>4.794118</td>\n",
       "    </tr>\n",
       "    <tr>\n",
       "      <th>97.0</th>\n",
       "      <td>5.000000</td>\n",
       "    </tr>\n",
       "    <tr>\n",
       "      <th>98.0</th>\n",
       "      <td>5.000000</td>\n",
       "    </tr>\n",
       "    <tr>\n",
       "      <th>100.0</th>\n",
       "      <td>4.866319</td>\n",
       "    </tr>\n",
       "  </tbody>\n",
       "</table>\n",
       "<p>91 rows × 1 columns</p>\n",
       "</div>"
      ],
      "text/plain": [
       "            Rating\n",
       "Progress          \n",
       "0.0       4.673913\n",
       "1.0       4.642691\n",
       "2.0       4.654762\n",
       "3.0       4.663551\n",
       "4.0       4.777328\n",
       "...            ...\n",
       "94.0      5.000000\n",
       "95.0      4.794118\n",
       "97.0      5.000000\n",
       "98.0      5.000000\n",
       "100.0     4.866319\n",
       "\n",
       "[91 rows x 1 columns]"
      ]
     },
     "execution_count": 5,
     "metadata": {},
     "output_type": "execute_result"
    }
   ],
   "source": [
    "df.groupby([\"Progress\"]).agg({\"Rating\":\"mean\"})"
   ]
  },
  {
   "cell_type": "code",
   "execution_count": 7,
   "id": "01d39a6d",
   "metadata": {},
   "outputs": [
    {
     "data": {
      "text/plain": [
       "Rating                float64\n",
       "Timestamp              object\n",
       "Enrolled               object\n",
       "Progress              float64\n",
       "Questions Asked       float64\n",
       "Questions Answered    float64\n",
       "dtype: object"
      ]
     },
     "execution_count": 7,
     "metadata": {},
     "output_type": "execute_result"
    }
   ],
   "source": [
    "df.dtypes"
   ]
  },
  {
   "cell_type": "code",
   "execution_count": 8,
   "id": "8a8edd16",
   "metadata": {},
   "outputs": [
    {
     "data": {
      "text/plain": [
       "Rating                       float64\n",
       "Timestamp             datetime64[ns]\n",
       "Enrolled                      object\n",
       "Progress                     float64\n",
       "Questions Asked              float64\n",
       "Questions Answered           float64\n",
       "dtype: object"
      ]
     },
     "execution_count": 8,
     "metadata": {},
     "output_type": "execute_result"
    }
   ],
   "source": [
    "df[\"Timestamp\"]=pd.to_datetime(df[\"Timestamp\"])\n",
    "df.dtypes"
   ]
  },
  {
   "cell_type": "code",
   "execution_count": 9,
   "id": "1c43ebff",
   "metadata": {},
   "outputs": [],
   "source": [
    "current_date=pd.to_datetime(\"2021-02-10 0:0:0\")"
   ]
  },
  {
   "cell_type": "code",
   "execution_count": 14,
   "id": "36f8cb4f",
   "metadata": {},
   "outputs": [
    {
     "data": {
      "text/html": [
       "<div>\n",
       "<style scoped>\n",
       "    .dataframe tbody tr th:only-of-type {\n",
       "        vertical-align: middle;\n",
       "    }\n",
       "\n",
       "    .dataframe tbody tr th {\n",
       "        vertical-align: top;\n",
       "    }\n",
       "\n",
       "    .dataframe thead th {\n",
       "        text-align: right;\n",
       "    }\n",
       "</style>\n",
       "<table border=\"1\" class=\"dataframe\">\n",
       "  <thead>\n",
       "    <tr style=\"text-align: right;\">\n",
       "      <th></th>\n",
       "      <th>Rating</th>\n",
       "      <th>Timestamp</th>\n",
       "      <th>Enrolled</th>\n",
       "      <th>Progress</th>\n",
       "      <th>Questions Asked</th>\n",
       "      <th>Questions Answered</th>\n",
       "      <th>days</th>\n",
       "    </tr>\n",
       "  </thead>\n",
       "  <tbody>\n",
       "    <tr>\n",
       "      <th>0</th>\n",
       "      <td>5.0</td>\n",
       "      <td>2021-02-05 07:45:55</td>\n",
       "      <td>2021-01-25 15:12:08</td>\n",
       "      <td>5.0</td>\n",
       "      <td>0.0</td>\n",
       "      <td>0.0</td>\n",
       "      <td>4</td>\n",
       "    </tr>\n",
       "    <tr>\n",
       "      <th>1</th>\n",
       "      <td>5.0</td>\n",
       "      <td>2021-02-04 21:05:32</td>\n",
       "      <td>2021-02-04 20:43:40</td>\n",
       "      <td>1.0</td>\n",
       "      <td>0.0</td>\n",
       "      <td>0.0</td>\n",
       "      <td>5</td>\n",
       "    </tr>\n",
       "    <tr>\n",
       "      <th>2</th>\n",
       "      <td>4.5</td>\n",
       "      <td>2021-02-04 20:34:03</td>\n",
       "      <td>2019-07-04 23:23:27</td>\n",
       "      <td>1.0</td>\n",
       "      <td>0.0</td>\n",
       "      <td>0.0</td>\n",
       "      <td>5</td>\n",
       "    </tr>\n",
       "    <tr>\n",
       "      <th>3</th>\n",
       "      <td>5.0</td>\n",
       "      <td>2021-02-04 16:56:28</td>\n",
       "      <td>2021-02-04 14:41:29</td>\n",
       "      <td>10.0</td>\n",
       "      <td>0.0</td>\n",
       "      <td>0.0</td>\n",
       "      <td>5</td>\n",
       "    </tr>\n",
       "    <tr>\n",
       "      <th>4</th>\n",
       "      <td>4.0</td>\n",
       "      <td>2021-02-04 15:00:24</td>\n",
       "      <td>2020-10-13 03:10:07</td>\n",
       "      <td>10.0</td>\n",
       "      <td>0.0</td>\n",
       "      <td>0.0</td>\n",
       "      <td>5</td>\n",
       "    </tr>\n",
       "    <tr>\n",
       "      <th>...</th>\n",
       "      <td>...</td>\n",
       "      <td>...</td>\n",
       "      <td>...</td>\n",
       "      <td>...</td>\n",
       "      <td>...</td>\n",
       "      <td>...</td>\n",
       "      <td>...</td>\n",
       "    </tr>\n",
       "    <tr>\n",
       "      <th>4318</th>\n",
       "      <td>5.0</td>\n",
       "      <td>2019-05-17 09:51:44</td>\n",
       "      <td>2019-05-17 09:08:53</td>\n",
       "      <td>34.0</td>\n",
       "      <td>1.0</td>\n",
       "      <td>0.0</td>\n",
       "      <td>634</td>\n",
       "    </tr>\n",
       "    <tr>\n",
       "      <th>4319</th>\n",
       "      <td>5.0</td>\n",
       "      <td>2019-05-16 21:27:05</td>\n",
       "      <td>2019-05-16 20:32:15</td>\n",
       "      <td>5.0</td>\n",
       "      <td>0.0</td>\n",
       "      <td>0.0</td>\n",
       "      <td>635</td>\n",
       "    </tr>\n",
       "    <tr>\n",
       "      <th>4320</th>\n",
       "      <td>5.0</td>\n",
       "      <td>2019-05-16 20:22:26</td>\n",
       "      <td>2019-05-16 20:21:19</td>\n",
       "      <td>1.0</td>\n",
       "      <td>0.0</td>\n",
       "      <td>0.0</td>\n",
       "      <td>635</td>\n",
       "    </tr>\n",
       "    <tr>\n",
       "      <th>4321</th>\n",
       "      <td>5.0</td>\n",
       "      <td>2019-05-16 19:49:07</td>\n",
       "      <td>2019-05-16 19:47:29</td>\n",
       "      <td>1.0</td>\n",
       "      <td>0.0</td>\n",
       "      <td>0.0</td>\n",
       "      <td>635</td>\n",
       "    </tr>\n",
       "    <tr>\n",
       "      <th>4322</th>\n",
       "      <td>5.0</td>\n",
       "      <td>2019-05-16 13:40:35</td>\n",
       "      <td>2019-05-15 14:10:24</td>\n",
       "      <td>56.0</td>\n",
       "      <td>0.0</td>\n",
       "      <td>0.0</td>\n",
       "      <td>635</td>\n",
       "    </tr>\n",
       "  </tbody>\n",
       "</table>\n",
       "<p>4323 rows × 7 columns</p>\n",
       "</div>"
      ],
      "text/plain": [
       "      Rating           Timestamp             Enrolled  Progress  \\\n",
       "0        5.0 2021-02-05 07:45:55  2021-01-25 15:12:08       5.0   \n",
       "1        5.0 2021-02-04 21:05:32  2021-02-04 20:43:40       1.0   \n",
       "2        4.5 2021-02-04 20:34:03  2019-07-04 23:23:27       1.0   \n",
       "3        5.0 2021-02-04 16:56:28  2021-02-04 14:41:29      10.0   \n",
       "4        4.0 2021-02-04 15:00:24  2020-10-13 03:10:07      10.0   \n",
       "...      ...                 ...                  ...       ...   \n",
       "4318     5.0 2019-05-17 09:51:44  2019-05-17 09:08:53      34.0   \n",
       "4319     5.0 2019-05-16 21:27:05  2019-05-16 20:32:15       5.0   \n",
       "4320     5.0 2019-05-16 20:22:26  2019-05-16 20:21:19       1.0   \n",
       "4321     5.0 2019-05-16 19:49:07  2019-05-16 19:47:29       1.0   \n",
       "4322     5.0 2019-05-16 13:40:35  2019-05-15 14:10:24      56.0   \n",
       "\n",
       "      Questions Asked  Questions Answered  days  \n",
       "0                 0.0                 0.0     4  \n",
       "1                 0.0                 0.0     5  \n",
       "2                 0.0                 0.0     5  \n",
       "3                 0.0                 0.0     5  \n",
       "4                 0.0                 0.0     5  \n",
       "...               ...                 ...   ...  \n",
       "4318              1.0                 0.0   634  \n",
       "4319              0.0                 0.0   635  \n",
       "4320              0.0                 0.0   635  \n",
       "4321              0.0                 0.0   635  \n",
       "4322              0.0                 0.0   635  \n",
       "\n",
       "[4323 rows x 7 columns]"
      ]
     },
     "execution_count": 14,
     "metadata": {},
     "output_type": "execute_result"
    }
   ],
   "source": [
    "df[\"days\"]=(current_date - df[\"Timestamp\"]).dt.days\n",
    "df"
   ]
  },
  {
   "cell_type": "code",
   "execution_count": 16,
   "id": "f77c7fac",
   "metadata": {},
   "outputs": [
    {
     "data": {
      "text/plain": [
       "4.7734375"
      ]
     },
     "execution_count": 16,
     "metadata": {},
     "output_type": "execute_result"
    }
   ],
   "source": [
    "df[df[\"days\"]<30][\"Rating\"].mean()"
   ]
  },
  {
   "cell_type": "code",
   "execution_count": 17,
   "id": "1564d0d8",
   "metadata": {},
   "outputs": [
    {
     "data": {
      "text/plain": [
       "192"
      ]
     },
     "execution_count": 17,
     "metadata": {},
     "output_type": "execute_result"
    }
   ],
   "source": [
    "df[df[\"days\"]<30][\"Rating\"].count()"
   ]
  },
  {
   "cell_type": "code",
   "execution_count": 21,
   "id": "88bcfe62",
   "metadata": {},
   "outputs": [
    {
     "data": {
      "text/plain": [
       "4.764399031312519"
      ]
     },
     "execution_count": 21,
     "metadata": {},
     "output_type": "execute_result"
    }
   ],
   "source": [
    "#En son yorum  yapan kullanıcılar için daha fazla ağırlık kullandık\n",
    "ort=df[df[\"days\"]<30][\"Rating\"].mean()*35/100+df[(df[\"days\"]>30) & (df[\"days\"]<90)][\"Rating\"].mean()*30/100+df[(df[\"days\"]>90) & (df[\"days\"]<180)][\"Rating\"].mean()*20/100+df[df[\"days\"]>180][\"Rating\"].mean()*15/100\n",
    "ort"
   ]
  },
  {
   "cell_type": "code",
   "execution_count": 22,
   "id": "46209332",
   "metadata": {},
   "outputs": [
    {
     "data": {
      "text/plain": [
       "4.7866321205619915"
      ]
     },
     "execution_count": 22,
     "metadata": {},
     "output_type": "execute_result"
    }
   ],
   "source": [
    "#Kursu yüzde olarak daha fazla izleyen kişilerin yorumlarının ağırlıklarını artırdık\n",
    "ort=df[df[\"Progress\"]<30][\"Rating\"].mean()*20/100+df[(df[\"Progress\"]>30) & (df[\"Progress\"]<60)][\"Rating\"].mean()*25/100+df[(df[\"Progress\"]>60) & (df[\"Progress\"]<90)][\"Rating\"].mean()*25/100+df[df[\"Progress\"]<90][\"Rating\"].mean()*30/100\n",
    "ort"
   ]
  },
  {
   "cell_type": "code",
   "execution_count": null,
   "id": "c9cd7f28",
   "metadata": {},
   "outputs": [],
   "source": []
  }
 ],
 "metadata": {
  "kernelspec": {
   "display_name": "Python 3 (ipykernel)",
   "language": "python",
   "name": "python3"
  },
  "language_info": {
   "codemirror_mode": {
    "name": "ipython",
    "version": 3
   },
   "file_extension": ".py",
   "mimetype": "text/x-python",
   "name": "python",
   "nbconvert_exporter": "python",
   "pygments_lexer": "ipython3",
   "version": "3.9.13"
  }
 },
 "nbformat": 4,
 "nbformat_minor": 5
}
